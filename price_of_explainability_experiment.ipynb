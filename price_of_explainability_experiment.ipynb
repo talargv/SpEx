{
 "cells": [
  {
   "cell_type": "code",
   "execution_count": null,
   "id": "93366a48",
   "metadata": {},
   "outputs": [],
   "source": [
    "from init_tree import init_tree_by_name\n",
    "from load_datasets import load_by_name\n",
    "\n",
    "import numpy as np\n",
    "import pandas as pd\n",
    "from sklearn.cluster import KMeans\n",
    "from sklearn.metrics import pairwise_distances"
   ]
  },
  {
   "cell_type": "code",
   "execution_count": null,
   "id": "7df9310a",
   "metadata": {},
   "outputs": [],
   "source": [
    "dataset_name = '20newsgroups' # See the load_by_name function for the available datasets\n",
    "path = None # Necessary for some datasets"
   ]
  },
  {
   "cell_type": "code",
   "execution_count": null,
   "id": "2922b09e",
   "metadata": {},
   "outputs": [],
   "source": [
    "data, clustering_true = load_by_name(dataset_name, path)\n",
    "k = np.unique(clustering_true).size"
   ]
  },
  {
   "cell_type": "markdown",
   "id": "d400d92a",
   "metadata": {},
   "source": [
    "# Helper functions"
   ]
  },
  {
   "cell_type": "code",
   "execution_count": null,
   "id": "c3671c21",
   "metadata": {},
   "outputs": [],
   "source": [
    "def kmeans_assignment(data, labels, centers):\n",
    "    assert data.shape[0] == labels.size\n",
    "    assert data.shape[1] == centers.shape[1]\n",
    "    map_label_center = {}\n",
    "    cost = 0\n",
    "    distances = pairwise_distances(data, centers, metric='sqeuclidean')\n",
    "    assert distances.shape[0] == data.shape[0]\n",
    "    assert distances.shape[1] == centers.shape[0]\n",
    "\n",
    "    unique_labels = np.unique(labels)\n",
    "    for label in unique_labels:\n",
    "        distances_for_cluster = distances[labels == label, :]\n",
    "        distances_per_center = distances_for_cluster.sum(axis=0)\n",
    "        map_label_center[label] = distances_per_center.argmin()\n",
    "        cost += distances_per_center.min()\n",
    "\n",
    "    return np.array([map_label_center[label] for label in labels]), cost"
   ]
  },
  {
   "cell_type": "code",
   "execution_count": null,
   "id": "a7266801",
   "metadata": {},
   "outputs": [],
   "source": [
    "def price_of_explainability(data, y_pred, y_true, centers):\n",
    "    return kmeans_assignment(data, y_pred, centers)[1] / kmeans_assignment(data, y_true, centers)[1]"
   ]
  },
  {
   "cell_type": "markdown",
   "id": "04ef3f25",
   "metadata": {},
   "source": [
    "# Train"
   ]
  },
  {
   "cell_type": "code",
   "execution_count": null,
   "id": "22c83e29",
   "metadata": {},
   "outputs": [],
   "source": [
    "results = {}\n",
    "\n",
    "clique_baselines = {}\n",
    "\n",
    "def add_result(name, prediction, baseline, centers):\n",
    "    results[name] = [price_of_explainability(data, prediction, baseline, centers)]"
   ]
  },
  {
   "cell_type": "code",
   "execution_count": null,
   "id": "8a5bb3c5",
   "metadata": {},
   "outputs": [],
   "source": [
    "kmeans = KMeans(n_clusters=k, random_state=1234)\n",
    "clustering_kmeans = kmeans.fit_predict(data)\n",
    "clique_baselines['KMeans'] = clustering_kmeans"
   ]
  },
  {
   "cell_type": "code",
   "execution_count": null,
   "id": "5a1d33b8",
   "metadata": {},
   "outputs": [],
   "source": [
    "centers = np.zeros((k, data.shape[1]))\n",
    "for i in range(k):\n",
    "  centers[i,:] = data[clustering_kmeans == i, :].mean(axis=0)"
   ]
  },
  {
   "cell_type": "code",
   "execution_count": null,
   "id": "2e59ffe2",
   "metadata": {},
   "outputs": [],
   "source": [
    "add_result('K Means', clustering_kmeans, clustering_kmeans, centers)"
   ]
  },
  {
   "cell_type": "markdown",
   "id": "f9015229",
   "metadata": {},
   "source": [
    "## SpEx Clique"
   ]
  },
  {
   "cell_type": "code",
   "execution_count": null,
   "id": "2a91d55b",
   "metadata": {},
   "outputs": [],
   "source": [
    "for name, reference in clique_baselines.items():\n",
    "    clique_global = init_tree_by_name('clique')\n",
    "    clique_global.train(data, reference)\n",
    "    y_pred = clique_global.predict(data)\n",
    "    add_result('SpEx Clique', y_pred, clustering_kmeans, centers)"
   ]
  },
  {
   "cell_type": "markdown",
   "id": "126c822d",
   "metadata": {},
   "source": [
    "## EMN"
   ]
  },
  {
   "cell_type": "code",
   "execution_count": null,
   "id": "fc7b5d0b",
   "metadata": {},
   "outputs": [],
   "source": [
    "emn = init_tree_by_name('emn')"
   ]
  },
  {
   "cell_type": "code",
   "execution_count": null,
   "id": "fae367d7",
   "metadata": {},
   "outputs": [],
   "source": [
    "clustering_kmeans = clustering_kmeans.astype(np.int64)\n",
    "emn.train(data, clustering_kmeans, centers)\n",
    "y_pred = emn.predict(data)\n",
    "add_result('EMN', y_pred, clustering_kmeans, centers)"
   ]
  },
  {
   "cell_type": "markdown",
   "id": "a124b90b",
   "metadata": {},
   "source": [
    "## CART"
   ]
  },
  {
   "cell_type": "code",
   "execution_count": null,
   "id": "6e5212c1",
   "metadata": {},
   "outputs": [],
   "source": [
    "for name, reference in clique_baselines.items():\n",
    "    vanilla_cart = init_tree_by_name('cart')\n",
    "    vanilla_cart.train(data, reference)\n",
    "    y_pred = vanilla_cart.predict(data)\n",
    "    add_result('CART', y_pred, clustering_kmeans, centers)"
   ]
  },
  {
   "cell_type": "markdown",
   "id": "8dbb00ba",
   "metadata": {},
   "source": [
    "# Evaluation"
   ]
  },
  {
   "cell_type": "code",
   "execution_count": null,
   "id": "ccb72df6",
   "metadata": {},
   "outputs": [],
   "source": [
    "metric_names = [\"Price of Explainability\"]"
   ]
  },
  {
   "cell_type": "code",
   "execution_count": null,
   "id": "d5a0e4de",
   "metadata": {},
   "outputs": [],
   "source": [
    "valuation_df = pd.DataFrame(results, index=metric_names)\n",
    "valuation_df"
   ]
  }
 ],
 "metadata": {
  "language_info": {
   "name": "python"
  }
 },
 "nbformat": 4,
 "nbformat_minor": 5
}
