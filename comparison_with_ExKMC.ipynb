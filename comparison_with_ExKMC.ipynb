{
 "cells": [
  {
   "cell_type": "code",
   "execution_count": null,
   "id": "6c1264b4",
   "metadata": {},
   "outputs": [],
   "source": [
    "import ExKMC.Tree as exkmc"
   ]
  },
  {
   "cell_type": "code",
   "execution_count": null,
   "id": "eb5e8e7a",
   "metadata": {},
   "outputs": [],
   "source": [
    "from graph_utils import get_nearest_neighbors\n",
    "from init_tree import init_tree_by_name\n",
    "from load_datasets import load_by_name\n",
    "\n",
    "import numpy as np\n",
    "import pandas as pd\n",
    "from sklearn.cluster import SpectralClustering\n",
    "from sklearn.metrics import adjusted_mutual_info_score, adjusted_rand_score, pairwise_distances, pairwise_distances_argmin_min, confusion_matrix\n",
    "from sklearn.preprocessing import StandardScaler"
   ]
  },
  {
   "cell_type": "code",
   "execution_count": null,
   "id": "f2d26806",
   "metadata": {},
   "outputs": [],
   "source": [
    "dataset_name = '20newsgroups' # See the load_by_name function for the available datasets\n",
    "path = None # Necessary for some datasets"
   ]
  },
  {
   "cell_type": "code",
   "execution_count": null,
   "id": "bc7b408b",
   "metadata": {},
   "outputs": [],
   "source": [
    "data, clustering_true = load_by_name(dataset_name, path)\n",
    "k = np.unique(clustering_true).size\n",
    "k_prime = 2 * k"
   ]
  },
  {
   "cell_type": "markdown",
   "id": "ddc752d8",
   "metadata": {},
   "source": [
    "# Helper functions"
   ]
  },
  {
   "cell_type": "code",
   "execution_count": null,
   "id": "f7a5f86a",
   "metadata": {},
   "outputs": [],
   "source": [
    "def kmeans_assignment(data, labels, centers):\n",
    "    assert data.shape[0] == labels.size\n",
    "    assert data.shape[1] == centers.shape[1]\n",
    "    map_label_center = {}\n",
    "    cost = 0\n",
    "    distances = pairwise_distances(data, centers, metric='sqeuclidean')\n",
    "    assert distances.shape[0] == data.shape[0]\n",
    "    assert distances.shape[1] == centers.shape[0]\n",
    "\n",
    "    unique_labels = np.unique(labels)\n",
    "    for label in unique_labels:\n",
    "        distances_for_cluster = distances[labels == label, :]\n",
    "        distances_per_center = distances_for_cluster.sum(axis=0)\n",
    "        map_label_center[label] = distances_per_center.argmin()\n",
    "        cost += distances_per_center.min()\n",
    "\n",
    "    return np.array([map_label_center[label] for label in labels]), cost"
   ]
  },
  {
   "cell_type": "code",
   "execution_count": null,
   "id": "4d888942",
   "metadata": {},
   "outputs": [],
   "source": [
    "# Maps each predicted cluster to the true class with which it shares\n",
    "# the most members. This is needed to have a somewhat fair comparison between\n",
    "# methods with a kMeans reference, for which an easy \"matching is available a-la ExKMC, and\n",
    "# those with a spectral reference, for which no such matching is available.\n",
    "def label_matching(y_true, y_pred):\n",
    "    true_labels = np.unique(y_true)\n",
    "    pred_labels = np.unique(y_pred)\n",
    "\n",
    "    cm = confusion_matrix(y_true, y_pred, labels=pred_labels)\n",
    "\n",
    "    best_true_indices = np.argmax(cm, axis=0)\n",
    "    best_true_labels = true_labels[best_true_indices]\n",
    "\n",
    "    mapping = {pred: true for pred, true in zip(pred_labels, best_true_labels)}\n",
    "\n",
    "    y_pred_mapped = np.array([mapping[pred] for pred in y_pred])\n",
    "\n",
    "    mapped_labels = np.unique(y_pred_mapped)\n",
    "    if len(mapped_labels) != len(true_labels):\n",
    "        print(\"WARNING: Some clusters were not assigned any points.\")\n",
    "\n",
    "    return y_pred_mapped"
   ]
  },
  {
   "cell_type": "markdown",
   "id": "2a877239",
   "metadata": {},
   "source": [
    "# Train"
   ]
  },
  {
   "cell_type": "code",
   "execution_count": null,
   "id": "5ace5025",
   "metadata": {},
   "outputs": [],
   "source": [
    "results = {}\n",
    "\n",
    "clique_baselines = {}\n",
    "\n",
    "def add_result(name, prediction):\n",
    "    results[name] = [adjusted_rand_score(clustering_true, prediction), adjusted_mutual_info_score(clustering_true, prediction)]"
   ]
  },
  {
   "cell_type": "markdown",
   "id": "c8ed1f47",
   "metadata": {},
   "source": [
    "## ExKMC (and KMeans)"
   ]
  },
  {
   "cell_type": "code",
   "execution_count": null,
   "id": "1e9d926c",
   "metadata": {},
   "outputs": [],
   "source": [
    "tree = exkmc.Tree(k=k, max_leaves=k_prime)\n",
    "\n",
    "exkmc_prediction = tree.fit_predict(data)\n",
    "centers = tree.all_centers"
   ]
  },
  {
   "cell_type": "code",
   "execution_count": null,
   "id": "9f993609",
   "metadata": {},
   "outputs": [],
   "source": [
    "clustering_kmeans, ref_cost = pairwise_distances_argmin_min(data, centers, metric='sqeuclidean')\n",
    "add_result('K Means', clustering_kmeans)\n",
    "clique_baselines['KMeans'] = clustering_kmeans"
   ]
  },
  {
   "cell_type": "code",
   "execution_count": null,
   "id": "e2cf5ce2",
   "metadata": {},
   "outputs": [],
   "source": [
    "add_result('ExKMC', exkmc_prediction)"
   ]
  },
  {
   "cell_type": "markdown",
   "id": "0cacd3f7",
   "metadata": {},
   "source": [
    "## Spectral Clustering"
   ]
  },
  {
   "cell_type": "code",
   "execution_count": null,
   "id": "65ba944a",
   "metadata": {},
   "outputs": [],
   "source": [
    "n_ngbrs = 50\n",
    "\n",
    "scaler = StandardScaler()\n",
    "scaler.fit(data)\n",
    "\n",
    "scaled_data = scaler.transform(data)"
   ]
  },
  {
   "cell_type": "code",
   "execution_count": null,
   "id": "e7624748",
   "metadata": {},
   "outputs": [],
   "source": [
    "spectral = SpectralClustering(n_clusters=k, n_neighbors=n_ngbrs,\n",
    "                                affinity='nearest_neighbors', assign_labels='cluster_qr',\n",
    "                                random_state=570, eigen_solver='amg')\n",
    "clustering_spectral = spectral.fit_predict(scaled_data)"
   ]
  },
  {
   "cell_type": "code",
   "execution_count": null,
   "id": "6e12642f",
   "metadata": {},
   "outputs": [],
   "source": [
    "graph_nn = get_nearest_neighbors(scaled_data, n_ngbrs)"
   ]
  },
  {
   "cell_type": "code",
   "execution_count": null,
   "id": "80eba6af",
   "metadata": {},
   "outputs": [],
   "source": [
    "clique_baselines['Spectral'] = clustering_spectral\n",
    "add_result('Spectral Clustering', clustering_spectral)"
   ]
  },
  {
   "cell_type": "code",
   "execution_count": null,
   "id": "89208a9d",
   "metadata": {},
   "outputs": [],
   "source": [
    "graph_global = init_tree_by_name('graph')\n",
    "graph_global.train(data, graph_nn, k_prime)\n",
    "add_result(f'SpEx kNN', label_matching(clustering_spectral, graph_global.predict(data)))"
   ]
  },
  {
   "cell_type": "markdown",
   "id": "10686f6f",
   "metadata": {},
   "source": [
    "## SpEx Clique"
   ]
  },
  {
   "cell_type": "code",
   "execution_count": null,
   "id": "2ff00ec4",
   "metadata": {},
   "outputs": [],
   "source": [
    "for name, reference in clique_baselines.items():\n",
    "    clique_global = init_tree_by_name('clique')\n",
    "    clique_global.train(data, reference, k=k_prime)\n",
    "    prediction = clique_global.predict(data)\n",
    "    if name == 'KMeans':\n",
    "        prediction_matched = label_matching(reference, prediction)\n",
    "        add_result(f'Clique Global {name} matched', prediction_matched)\n",
    "        prediction = kmeans_assignment(data, prediction, centers)[0]\n",
    "    if name == 'Spectral':\n",
    "        prediction = label_matching(reference, prediction)\n",
    "    add_result(f'SpEx Clique {name}', prediction)"
   ]
  },
  {
   "cell_type": "markdown",
   "id": "a2050f21",
   "metadata": {},
   "source": [
    "## CART"
   ]
  },
  {
   "cell_type": "code",
   "execution_count": null,
   "id": "0ad62383",
   "metadata": {},
   "outputs": [],
   "source": [
    "for name, reference in clique_baselines.items():\n",
    "    vanilla_cart = init_tree_by_name('cart')\n",
    "    vanilla_cart.train(data, reference, k=k_prime)\n",
    "    prediction = vanilla_cart.predict(data)\n",
    "    if name == 'KMeans':\n",
    "        prediction_matched = label_matching(reference, prediction)\n",
    "        add_result(f'CART {name} matched', prediction_matched, reference)\n",
    "        prediction = kmeans_assignment(data, prediction, centers)[0]\n",
    "    if name == 'Spectral':\n",
    "        prediction = label_matching(clustering_spectral, prediction)\n",
    "    add_result(f'CART {name}', prediction, reference)"
   ]
  },
  {
   "cell_type": "markdown",
   "id": "3fb7a988",
   "metadata": {},
   "source": [
    "# Evaluation"
   ]
  },
  {
   "cell_type": "code",
   "execution_count": null,
   "id": "bc7910b6",
   "metadata": {},
   "outputs": [],
   "source": [
    "metric_names = [\"Rand Score\", \"AMI\", \"Rand Score w.r.t Baseline\"]"
   ]
  },
  {
   "cell_type": "code",
   "execution_count": null,
   "id": "efbcd3d1",
   "metadata": {},
   "outputs": [],
   "source": [
    "valuation_df = pd.DataFrame.from_dict(results, orient='index', columns=metric_names)\n",
    "valuation_df"
   ]
  }
 ],
 "metadata": {
  "language_info": {
   "name": "python"
  }
 },
 "nbformat": 4,
 "nbformat_minor": 5
}
