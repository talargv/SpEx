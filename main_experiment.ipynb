{
 "cells": [
  {
   "cell_type": "code",
   "execution_count": null,
   "id": "86932e64",
   "metadata": {},
   "outputs": [],
   "source": [
    "from graph_utils import get_nearest_neighbors\n",
    "from init_tree import init_tree_by_name\n",
    "from load_datasets import load_by_name\n",
    "\n",
    "import numpy as np\n",
    "import pandas as pd\n",
    "from sklearn.cluster import SpectralClustering, MiniBatchKMeans, KMeans\n",
    "from sklearn.metrics import adjusted_mutual_info_score, adjusted_rand_score\n",
    "from sklearn.metrics.pairwise import pairwise_kernels\n",
    "from sklearn.preprocessing import StandardScaler"
   ]
  },
  {
   "cell_type": "code",
   "execution_count": null,
   "id": "45a7c30c",
   "metadata": {},
   "outputs": [],
   "source": [
    "dataset_name = 'iris' # See the load_by_name function for the available datasets\n",
    "path = None # Necessary for some datasets\n",
    "use_kimm = True # Whether to use the Kernel IMM algorithm. Very slow for large datasets.\n",
    "scale_kmeans = True\n",
    "minibatch_kmeans = True"
   ]
  },
  {
   "cell_type": "code",
   "execution_count": null,
   "id": "99ff5c74",
   "metadata": {},
   "outputs": [],
   "source": [
    "data, clustering_true = load_by_name(dataset_name, path)\n",
    "k = np.unique(clustering_true).size"
   ]
  },
  {
   "cell_type": "markdown",
   "id": "217b8c48",
   "metadata": {},
   "source": [
    "# Train"
   ]
  },
  {
   "cell_type": "code",
   "execution_count": null,
   "id": "1a607d66",
   "metadata": {},
   "outputs": [],
   "source": [
    "results = {}\n",
    "\n",
    "clique_baselines = {}\n",
    "\n",
    "def add_result(name, prediction, baseline):\n",
    "    results[name] = [adjusted_rand_score(clustering_true, prediction), adjusted_mutual_info_score(clustering_true, prediction), adjusted_rand_score(baseline, prediction)]"
   ]
  },
  {
   "cell_type": "markdown",
   "id": "4259c1c0",
   "metadata": {},
   "source": [
    "## Kernel IMM\n",
    "\n",
    "Code is taken from the supplementary material of the Kernel IMM paper."
   ]
  },
  {
   "cell_type": "code",
   "execution_count": null,
   "id": "9ade6f67",
   "metadata": {},
   "outputs": [],
   "source": [
    "rng = np.random.default_rng(seed=42)"
   ]
  },
  {
   "cell_type": "code",
   "execution_count": null,
   "id": "09270d28",
   "metadata": {},
   "outputs": [],
   "source": [
    "if use_kimm:\n",
    "    %run ./kimm/KernelkmeansFunctions.ipynb\n",
    "    %run ./kimm/ExplainabilityFunctions.ipynb\n",
    "    %run ./kimm/ExpandingIMM.ipynb\n",
    "    %run ./kimm/KernelExKMC.ipynb\n",
    "    %run ./kimm/RunExperiments.ipynb"
   ]
  },
  {
   "cell_type": "code",
   "execution_count": null,
   "id": "793f1809",
   "metadata": {},
   "outputs": [],
   "source": [
    "### Define kernel functions\n",
    "\n",
    "def rbf(x,y,gamma):\n",
    "    return(np.exp(-gamma*np.sum((x-y)**2)))\n",
    "\n",
    "def laplace(x,y,gamma):\n",
    "    return(np.exp(-gamma*np.sum(np.abs(x-y))))\n",
    "\n",
    "def linear(x,y):\n",
    "    return(np.dot(x,y))"
   ]
  },
  {
   "cell_type": "code",
   "execution_count": null,
   "id": "4a09a799",
   "metadata": {},
   "outputs": [],
   "source": [
    "if use_kimm:\n",
    "    gammas = np.array([0.01, 0.05, 0.1, 0.5, 1, 5, 10])\n",
    "    imm_path1, imm_path2 = imm_experiments(data, clustering_true, gammas)\n",
    "\n",
    "    y_kkm = imm_path2['y_kkm']\n",
    "    gamma = imm_path1['best_gamma']\n",
    "\n",
    "    if imm_path1['best_kernel'] == 0:\n",
    "        Kmat = pairwise_kernels(data, metric=rbf, gamma=gamma)\n",
    "        if imm_path1['price_taylor_imm_on_kkm'] < imm_path1['price_kmat_imm_on_kkm']:\n",
    "            print('Gaussian Taylor')\n",
    "            y_imm = imm_path2['y_taylor_imm_on_kkm']\n",
    "        else:\n",
    "            print('Gaussian Kernel Matrix')\n",
    "            y_imm = imm_path2['y_kmat_imm_on_kkm']\n",
    "    else:\n",
    "        print('Laplace Kernel Matrix')\n",
    "        Kmat = pairwise_kernels(data, metric=laplace, gamma=gamma)\n",
    "        y_imm = imm_path2['y_kmat_imm_on_kkm']\n",
    "\n",
    "    clustering_kmeans = imm_path2['y_kmeans']\n",
    "    clustering_kkm = y_kkm\n",
    "\n",
    "    add_result('K Means', clustering_kmeans, clustering_kmeans)\n",
    "    clique_baselines['KMeans'] = clustering_kmeans\n",
    "\n",
    "    add_result('Kernel K Means', clustering_kkm, clustering_kkm)\n",
    "    clique_baselines['KKM'] = clustering_kkm\n",
    "\n",
    "    add_result('Kernel IMM', y_imm, clustering_kkm)"
   ]
  },
  {
   "cell_type": "markdown",
   "id": "45ea0949",
   "metadata": {},
   "source": [
    "## Spectral Clustering"
   ]
  },
  {
   "cell_type": "code",
   "execution_count": null,
   "id": "889e150d",
   "metadata": {},
   "outputs": [],
   "source": [
    "n_ngbrs = 50\n",
    "\n",
    "scaler = StandardScaler()\n",
    "scaler.fit(data)\n",
    "\n",
    "scaled_data = scaler.transform(data)"
   ]
  },
  {
   "cell_type": "code",
   "execution_count": null,
   "id": "1cdd6355",
   "metadata": {},
   "outputs": [],
   "source": [
    "spectral = SpectralClustering(n_clusters=k, n_neighbors=n_ngbrs,\n",
    "                                affinity='nearest_neighbors', assign_labels='cluster_qr',\n",
    "                                random_state=570, eigen_solver='amg')\n",
    "clustering_spectral = spectral.fit_predict(scaled_data)\n",
    "\n",
    "clique_baselines['Spectral'] = clustering_spectral\n",
    "add_result('Spectral Clustering', clustering_spectral, clustering_spectral)"
   ]
  },
  {
   "cell_type": "markdown",
   "id": "c79f2b0b",
   "metadata": {},
   "source": [
    "### SpEx kNN"
   ]
  },
  {
   "cell_type": "code",
   "execution_count": null,
   "id": "5e0d63c9",
   "metadata": {},
   "outputs": [],
   "source": [
    "graph_nn = get_nearest_neighbors(scaled_data, n_ngbrs)"
   ]
  },
  {
   "cell_type": "code",
   "execution_count": null,
   "id": "7640e450",
   "metadata": {},
   "outputs": [],
   "source": [
    "graph_global = init_tree_by_name('graph')\n",
    "graph_global.train(data, graph_nn, k)\n",
    "add_result(f'SpEx kNN', graph_global.predict(data), clustering_spectral)"
   ]
  },
  {
   "cell_type": "markdown",
   "id": "466b61d4",
   "metadata": {},
   "source": [
    "## kMeans"
   ]
  },
  {
   "cell_type": "code",
   "execution_count": null,
   "id": "a11ad964",
   "metadata": {},
   "outputs": [],
   "source": [
    "if not use_kimm:\n",
    "    if scale_kmeans:\n",
    "        scaler = StandardScaler()\n",
    "        scaler.fit(data)\n",
    "\n",
    "        scaled_data = scaler.transform(data)\n",
    "    else:\n",
    "        scaled_data = data\n",
    "\n",
    "    if minibatch_kmeans:\n",
    "        kmeans = MiniBatchKMeans(n_clusters=k, random_state=0)\n",
    "    else:\n",
    "        kmeans = KMeans(n_clusters=k, random_state=0)\n",
    "\n",
    "    clustering_kmeans = kmeans.fit_predict(scaled_data)\n",
    "    add_result('K Means', clustering_kmeans, clustering_kmeans)\n",
    "    clique_baselines['KMeans'] = clustering_kmeans"
   ]
  },
  {
   "cell_type": "markdown",
   "id": "95535659",
   "metadata": {},
   "source": [
    "## SpEx Clique"
   ]
  },
  {
   "cell_type": "code",
   "execution_count": null,
   "id": "48e6df6f",
   "metadata": {},
   "outputs": [],
   "source": [
    "for name, reference in clique_baselines.items():\n",
    "    clique_global = init_tree_by_name('clique')\n",
    "    clique_global.train(data, reference)\n",
    "    add_result(f'SpEx Clique {name}', clique_global.predict(data), reference)"
   ]
  },
  {
   "cell_type": "markdown",
   "id": "2cf32000",
   "metadata": {},
   "source": [
    "## EMN"
   ]
  },
  {
   "cell_type": "code",
   "execution_count": null,
   "id": "c2641e69",
   "metadata": {},
   "outputs": [],
   "source": [
    "emn = init_tree_by_name('emn')"
   ]
  },
  {
   "cell_type": "code",
   "execution_count": null,
   "id": "f984959e",
   "metadata": {},
   "outputs": [],
   "source": [
    "centers = np.zeros((k, data.shape[1]))\n",
    "for i in range(k):\n",
    "  centers[i,:] = data[clustering_kmeans == i, :].mean(axis=0)"
   ]
  },
  {
   "cell_type": "code",
   "execution_count": null,
   "id": "62ab52f4",
   "metadata": {},
   "outputs": [],
   "source": [
    "clustering_kmeans = clustering_kmeans.astype(np.int32)\n",
    "emn.train(data, clustering_kmeans, centers)\n",
    "add_result('EMN', emn.predict(data), clustering_kmeans)"
   ]
  },
  {
   "cell_type": "markdown",
   "id": "55356c95",
   "metadata": {},
   "source": [
    "## CART"
   ]
  },
  {
   "cell_type": "code",
   "execution_count": null,
   "id": "45d8b4e3",
   "metadata": {},
   "outputs": [],
   "source": [
    "for name, reference in clique_baselines.items():\n",
    "    vanilla_cart = init_tree_by_name('cart')\n",
    "    vanilla_cart.train(data, reference)\n",
    "    add_result(f'CART {name}', vanilla_cart.predict(data), reference)"
   ]
  },
  {
   "cell_type": "markdown",
   "id": "999a810d",
   "metadata": {},
   "source": [
    "# Evaluation"
   ]
  },
  {
   "cell_type": "code",
   "execution_count": null,
   "id": "cd5d1a67",
   "metadata": {},
   "outputs": [],
   "source": [
    "metric_names = [\"Rand Score\", \"AMI\", \"Rand Score w.r.t Baseline\"]"
   ]
  },
  {
   "cell_type": "code",
   "execution_count": null,
   "id": "cd4c3a8c",
   "metadata": {},
   "outputs": [],
   "source": [
    "valuation_df = pd.DataFrame(results, index=metric_names)\n",
    "valuation_df"
   ]
  }
 ],
 "metadata": {
  "kernelspec": {
   "display_name": "bizbiz",
   "language": "python",
   "name": "python3"
  },
  "language_info": {
   "codemirror_mode": {
    "name": "ipython",
    "version": 3
   },
   "file_extension": ".py",
   "mimetype": "text/x-python",
   "name": "python",
   "nbconvert_exporter": "python",
   "pygments_lexer": "ipython3",
   "version": "3.12.3"
  }
 },
 "nbformat": 4,
 "nbformat_minor": 5
}
